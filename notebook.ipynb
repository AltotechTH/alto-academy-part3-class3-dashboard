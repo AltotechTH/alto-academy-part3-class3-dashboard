{
 "cells": [
  {
   "cell_type": "code",
   "execution_count": 1,
   "id": "initial_id",
   "metadata": {
    "collapsed": true,
    "ExecuteTime": {
     "end_time": "2023-10-07T06:04:21.533337Z",
     "start_time": "2023-10-07T06:04:20.717584Z"
    }
   },
   "outputs": [],
   "source": [
    "import datetime\n",
    "import pandas as pd\n",
    "import numpy as np\n",
    "from utils import database_utils, file_utils, visualization_utils, dashboard_utils"
   ]
  },
  {
   "cell_type": "code",
   "execution_count": 2,
   "outputs": [
    {
     "name": "stdout",
     "output_type": "stream",
     "text": [
      "Data queried in 4.312588930130005 seconds\n"
     ]
    }
   ],
   "source": [
    "today = datetime.date.today()\n",
    "start_datetime = dashboard_utils.date_to_pendulum(today)\n",
    "end_datetime = start_datetime.end_of('day')\n",
    "start_unix = start_datetime.timestamp()\n",
    "end_unix = end_datetime.timestamp()\n",
    "df = dashboard_utils.get_data(start_unix, start_unix, end_unix)"
   ],
   "metadata": {
    "collapsed": false,
    "ExecuteTime": {
     "end_time": "2023-10-07T06:04:25.894928Z",
     "start_time": "2023-10-07T06:04:21.533640Z"
    }
   },
   "id": "60fce57cee03eef7"
  },
  {
   "cell_type": "code",
   "execution_count": 3,
   "outputs": [
    {
     "data": {
      "text/plain": "                                      device_id    type       datapoint  \\\ndatetime                                                                  \n2023-10-07 00:00:16.456  eb27641363d2b2a091jdar  sensor  presence_state   \n2023-10-07 00:00:06.576  eb27641363d2b2a091jdar  sensor   online_status   \n2023-10-07 00:00:21.527  eb27641363d2b2a091jdar  sensor   online_status   \n2023-10-07 00:00:11.545  eb27641363d2b2a091jdar  sensor     sensitivity   \n2023-10-07 00:00:51.612  eb27641363d2b2a091jdar  sensor  presence_state   \n...                                         ...     ...             ...   \n2023-10-07 13:02:26.432  ebc130be2d36e91da6nj92  switch           state   \n2023-10-07 13:03:25.076  ebc130be2d36e91da6nj92  switch           state   \n2023-10-07 13:03:35.458  ebc130be2d36e91da6nj92  switch           state   \n2023-10-07 13:03:47.454  ebc130be2d36e91da6nj92  switch           state   \n2023-10-07 13:04:11.458  ebc130be2d36e91da6nj92  switch           state   \n\n                              value  \ndatetime                             \n2023-10-07 00:00:16.456  \"occupied\"  \n2023-10-07 00:00:06.576    \"online\"  \n2023-10-07 00:00:21.527    \"online\"  \n2023-10-07 00:00:11.545       100.0  \n2023-10-07 00:00:51.612  \"occupied\"  \n...                             ...  \n2023-10-07 13:02:26.432        \"on\"  \n2023-10-07 13:03:25.076        \"on\"  \n2023-10-07 13:03:35.458        \"on\"  \n2023-10-07 13:03:47.454        \"on\"  \n2023-10-07 13:04:11.458        \"on\"  \n\n[57708 rows x 4 columns]",
      "text/html": "<div>\n<style scoped>\n    .dataframe tbody tr th:only-of-type {\n        vertical-align: middle;\n    }\n\n    .dataframe tbody tr th {\n        vertical-align: top;\n    }\n\n    .dataframe thead th {\n        text-align: right;\n    }\n</style>\n<table border=\"1\" class=\"dataframe\">\n  <thead>\n    <tr style=\"text-align: right;\">\n      <th></th>\n      <th>device_id</th>\n      <th>type</th>\n      <th>datapoint</th>\n      <th>value</th>\n    </tr>\n    <tr>\n      <th>datetime</th>\n      <th></th>\n      <th></th>\n      <th></th>\n      <th></th>\n    </tr>\n  </thead>\n  <tbody>\n    <tr>\n      <th>2023-10-07 00:00:16.456</th>\n      <td>eb27641363d2b2a091jdar</td>\n      <td>sensor</td>\n      <td>presence_state</td>\n      <td>\"occupied\"</td>\n    </tr>\n    <tr>\n      <th>2023-10-07 00:00:06.576</th>\n      <td>eb27641363d2b2a091jdar</td>\n      <td>sensor</td>\n      <td>online_status</td>\n      <td>\"online\"</td>\n    </tr>\n    <tr>\n      <th>2023-10-07 00:00:21.527</th>\n      <td>eb27641363d2b2a091jdar</td>\n      <td>sensor</td>\n      <td>online_status</td>\n      <td>\"online\"</td>\n    </tr>\n    <tr>\n      <th>2023-10-07 00:00:11.545</th>\n      <td>eb27641363d2b2a091jdar</td>\n      <td>sensor</td>\n      <td>sensitivity</td>\n      <td>100.0</td>\n    </tr>\n    <tr>\n      <th>2023-10-07 00:00:51.612</th>\n      <td>eb27641363d2b2a091jdar</td>\n      <td>sensor</td>\n      <td>presence_state</td>\n      <td>\"occupied\"</td>\n    </tr>\n    <tr>\n      <th>...</th>\n      <td>...</td>\n      <td>...</td>\n      <td>...</td>\n      <td>...</td>\n    </tr>\n    <tr>\n      <th>2023-10-07 13:02:26.432</th>\n      <td>ebc130be2d36e91da6nj92</td>\n      <td>switch</td>\n      <td>state</td>\n      <td>\"on\"</td>\n    </tr>\n    <tr>\n      <th>2023-10-07 13:03:25.076</th>\n      <td>ebc130be2d36e91da6nj92</td>\n      <td>switch</td>\n      <td>state</td>\n      <td>\"on\"</td>\n    </tr>\n    <tr>\n      <th>2023-10-07 13:03:35.458</th>\n      <td>ebc130be2d36e91da6nj92</td>\n      <td>switch</td>\n      <td>state</td>\n      <td>\"on\"</td>\n    </tr>\n    <tr>\n      <th>2023-10-07 13:03:47.454</th>\n      <td>ebc130be2d36e91da6nj92</td>\n      <td>switch</td>\n      <td>state</td>\n      <td>\"on\"</td>\n    </tr>\n    <tr>\n      <th>2023-10-07 13:04:11.458</th>\n      <td>ebc130be2d36e91da6nj92</td>\n      <td>switch</td>\n      <td>state</td>\n      <td>\"on\"</td>\n    </tr>\n  </tbody>\n</table>\n<p>57708 rows × 4 columns</p>\n</div>"
     },
     "execution_count": 3,
     "metadata": {},
     "output_type": "execute_result"
    }
   ],
   "source": [
    "df"
   ],
   "metadata": {
    "collapsed": false,
    "ExecuteTime": {
     "end_time": "2023-10-07T06:04:25.906449Z",
     "start_time": "2023-10-07T06:04:25.897651Z"
    }
   },
   "id": "5e16e6f759d137ff"
  }
 ],
 "metadata": {
  "kernelspec": {
   "display_name": "Python 3",
   "language": "python",
   "name": "python3"
  },
  "language_info": {
   "codemirror_mode": {
    "name": "ipython",
    "version": 2
   },
   "file_extension": ".py",
   "mimetype": "text/x-python",
   "name": "python",
   "nbconvert_exporter": "python",
   "pygments_lexer": "ipython2",
   "version": "2.7.6"
  }
 },
 "nbformat": 4,
 "nbformat_minor": 5
}
